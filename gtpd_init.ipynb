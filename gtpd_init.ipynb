{
 "cells": [
  {
   "cell_type": "markdown",
   "metadata": {
    "id": "ShNLBi1-_2Se"
   },
   "source": [
    "# Initializing the Guide to Pharmacology Database\n",
    "\n",
    "---\n",
    "\n"
   ]
  },
  {
   "cell_type": "markdown",
   "metadata": {
    "id": "ugWh9WTCASLv"
   },
   "source": [
    "## Setup and Data Loading\n",
    "\n",
    "First, let's review the setup and data loading process:"
   ]
  },
  {
   "cell_type": "code",
   "execution_count": null,
   "metadata": {
    "colab": {
     "base_uri": "https://localhost:8080/"
    },
    "id": "hIdweyPbkPnH",
    "outputId": "b9ab718f-4a64-4f81-8605-bd48303b0671"
   },
   "outputs": [],
   "source": [
    "!pip install -q rdflib-neo4j openpyxl"
   ]
  },
  {
   "cell_type": "code",
   "execution_count": null,
   "metadata": {
    "id": "dkxR9IazkLaY",
    "pycharm": {
     "is_executing": true,
     "name": "#%%\n"
    }
   },
   "outputs": [],
   "source": [
    "from rdflib_neo4j import Neo4jStoreConfig\n",
    "from rdflib_neo4j import HANDLE_VOCAB_URI_STRATEGY\n",
    "# from google.colab import userdata"
   ]
  },
  {
   "cell_type": "code",
   "execution_count": null,
   "metadata": {
    "id": "XyQu2-_IkOh9"
   },
   "outputs": [],
   "source": [
    "import os\n",
    "\n",
    "# NEO_DB_URI = 'bolt://172.18.176.1:7687'\n",
    "NEO_DB_URI = os.getenv('NEO4J_LCL_URI')\n",
    "NEO_DB_USERNAME = os.getenv('NEO4J_USERNAME')\n",
    "NEO_DB_PWD = os.getenv('NEO4J_LCL_PASSWORD')\n"
   ]
  },
  {
   "cell_type": "code",
   "execution_count": null,
   "metadata": {
    "id": "y9QD9_o3rEu1"
   },
   "outputs": [],
   "source": [
    "auth_data = {'uri': NEO_DB_URI,\n",
    "             'database': \"neo4j\",\n",
    "             'user': NEO_DB_USERNAME,\n",
    "             'pwd': NEO_DB_PWD}"
   ]
  },
  {
   "cell_type": "markdown",
   "metadata": {
    "id": "Prt_xi-5-ctl"
   },
   "source": [
    "## Define namespaces and configuration\n"
   ]
  },
  {
   "cell_type": "code",
   "execution_count": null,
   "metadata": {
    "id": "091uEorDkLaZ",
    "pycharm": {
     "name": "#%%\n"
    }
   },
   "outputs": [],
   "source": [
    "from rdflib import Namespace\n",
    "\n",
    "prefixes = {\n",
    "    'gtpo': Namespace('https://rdf.guidetopharmacology.org/ns/gtpo#'),\n",
    "    'grac': Namespace('https://rdf.guidetopharmacology.org/GRAC/'),\n",
    "    'cito': Namespace('http://purl.org/spar/cito/'),\n",
    "    'dcat': Namespace('http://www.w3.org/ns/dcat#'),\n",
    "    'dctypes': Namespace('http://purl.org/dc/dcmitype/'),\n",
    "    'dct': Namespace('http://purl.org/dc/terms/'),\n",
    "    'foaf': Namespace('http://xmlns.com/foaf/0.1/'),\n",
    "    'freq': Namespace('http://purl.org/cld/freq/'),\n",
    "    'idot': Namespace('http://identifiers.org/idot/'),\n",
    "    'lexvo': Namespace('http://lexvo.org/ontology#'),\n",
    "    'pav': Namespace('http://purl.org/pav/'),\n",
    "    'prov': Namespace('http://www.w3.org/ns/prov#'),\n",
    "    'rdf': Namespace('http://www.w3.org/1999/02/22-rdf-syntax-ns#'),\n",
    "    'rdfs': Namespace('http://www.w3.org/2000/01/rdf-schema#'),\n",
    "    'schemaorg': Namespace('http://schema.org/'),\n",
    "    'sd': Namespace('http://www.w3.org/ns/sparql-service-description#'),\n",
    "    'sio': Namespace('http://semanticscience.org/resource/'),\n",
    "    'void': Namespace('http://rdfs.org/ns/void#'),\n",
    "    'void-ext': Namespace('http://ldf.fi/void-ext#'),\n",
    "    'xsd': Namespace('http://www.w3.org/2001/XMLSchema#'),\n",
    "    # Add other required prefixes based on your data inspection\n",
    "}"
   ]
  },
  {
   "cell_type": "code",
   "execution_count": null,
   "metadata": {
    "id": "r5orIl8kkLaZ",
    "pycharm": {
     "name": "#%%\n"
    }
   },
   "outputs": [],
   "source": [
    "config = Neo4jStoreConfig(auth_data=auth_data,\n",
    "                          custom_prefixes=prefixes,\n",
    "                          handle_vocab_uri_strategy=HANDLE_VOCAB_URI_STRATEGY.IGNORE,\n",
    "                          batching=True)"
   ]
  },
  {
   "cell_type": "markdown",
   "metadata": {
    "id": "dkT27dtL_Ag7"
   },
   "source": [
    "## Load the ontology data"
   ]
  },
  {
   "cell_type": "code",
   "execution_count": null,
   "metadata": {
    "colab": {
     "base_uri": "https://localhost:8080/",
     "height": 373
    },
    "id": "07lRVHQ7kLaZ",
    "outputId": "18addd39-7511-4801-de0f-39b241e156fc",
    "pycharm": {
     "name": "#%%\n"
    }
   },
   "outputs": [],
   "source": [
    "from rdflib_neo4j import Neo4jStore\n",
    "from rdflib import Graph\n",
    "file_path = 'https://www.guidetopharmacology.org/DATA/rdf/2024.3/gtp-rdf.n3'\n",
    "\n",
    "graph_store = Graph(store=Neo4jStore(config=config))\n",
    "graph_store.parse(file_path,format=\"nt\")\n",
    "graph_store.close(True)"
   ]
  },
  {
   "cell_type": "markdown",
   "metadata": {
    "id": "xrvCxjtZRUT0"
   },
   "source": [
    "This setup process installs the necessary libraries, defines authentication data, sets up namespaces, and loads the Guide to Pharmacology ontology data into a Neo4j graph database."
   ]
  },
  {
   "cell_type": "markdown",
   "metadata": {
    "id": "zc_PvQad_Lzs"
   },
   "source": [
    "## Querying the Guide to Pharmacology data\n",
    "\n",
    "Now, let's explore the GtoP database data using a Cypher query:"
   ]
  },
  {
   "cell_type": "code",
   "execution_count": null,
   "metadata": {
    "id": "cx7CAGZN5yBN"
   },
   "outputs": [],
   "source": [
    "from neo4j import GraphDatabase\n",
    "\n",
    "# Initialize Neo4j driver\n",
    "driver = GraphDatabase.driver(\n",
    "    NEO_DB_URI,\n",
    "    auth=(NEO_DB_USERNAME, NEO_DB_PWD)\n",
    ")\n"
   ]
  },
  {
   "cell_type": "markdown",
   "metadata": {},
   "source": [
    "#### Setup reused functions"
   ]
  },
  {
   "cell_type": "code",
   "execution_count": null,
   "metadata": {},
   "outputs": [],
   "source": [
    "def run_cypher_query(query):\n",
    "    with driver.session(database=\"neo4j\") as session:\n",
    "        result = session.run(query)\n",
    "        # Fetch all results and convert them into a list of dictionaries\n",
    "        return [record.data() for record in result]"
   ]
  },
  {
   "cell_type": "code",
   "execution_count": null,
   "metadata": {
    "id": "xTEIt5Ifz4WW"
   },
   "outputs": [],
   "source": [
    "cypher_query = \"\"\"\n",
    "WITH [\"EnzymeTargetFamily\",\n",
    "      \"OtherProteinTargetFamily\",\n",
    "      \"TransporterTargetFamily\",\n",
    "      \"GProteinCoupledReceptorTargetFamily\",\n",
    "      \"CatalyticReceptorTargetFamily\",\n",
    "      \"LigandGatedIonChannelTargetFamily\",\n",
    "      \"VoltageGatedIonChannelTargetFamily\",\n",
    "      \"NuclearHormoneReceptorTargetFamily\",\n",
    "      \"OtherIonChannelTargetFamily\",\n",
    "      \"GroupingTargetFamily\",\n",
    "      \"LigandTargetFamily\"] AS targetFamilyTypes,\n",
    "\n",
    "     [\"SyntheticOrganicLigand\",\n",
    "      \"NaturalProductLigand\",\n",
    "      \"PeptideLigand\",\n",
    "      \"MetaboliteLigand\",\n",
    "      \"AntibodyLigand\",\n",
    "      \"InorganicLigand\"] AS ligandTypes,\n",
    "\n",
    "     [\"AntagonistInteraction\",\n",
    "      \"AgonistInteraction\",\n",
    "      \"ActivatorInteraction\",\n",
    "      \"Interaction\",\n",
    "      \"InhibitorInteraction\",\n",
    "      \"AntibodyInteraction\",\n",
    "      \"ChannelBlockerInteraction\",\n",
    "      \"AllostericModulatorInteraction\",\n",
    "      \"GatingInhibitorInteraction\",\n",
    "      \"SubunitSpecificInteraction\"] AS interactionTypes\n",
    "\n",
    "UNWIND targetFamilyTypes AS targetFamilyType\n",
    "UNWIND ligandTypes AS ligandType\n",
    "UNWIND interactionTypes AS interactionType\n",
    "\n",
    "CALL apoc.cypher.run(\"\n",
    "    MATCH (tf:`\" + targetFamilyType + \"` {label: $label})<-[r1:hasTargetFamily]-(t:Target)\n",
    "    MATCH (i:`\" + interactionType + \"`)-[r2:hasTarget]->(t)\n",
    "    MATCH (i)-[r3:hasLigand]->(l:`\" + ligandType + \"`)\n",
    "    RETURN tf, r1, t, r2, i, r3, l\n",
    "    LIMIT 30\n",
    "\", {label: \"STE7 family\"}) YIELD value\n",
    "\n",
    "RETURN value.tf AS tf, value.r1 AS r1, value.t AS t, value.r2 AS r2, value.i AS i, value.r3 AS r3, value.l AS l\n",
    "\"\"\""
   ]
  },
  {
   "cell_type": "code",
   "execution_count": null,
   "metadata": {
    "id": "Fk2n5A_H560x"
   },
   "outputs": [],
   "source": [
    "from pprint import pprint\n",
    "\n",
    "# Execute the query and display the results\n",
    "results = run_cypher_query(cypher_query)\n",
    "pprint(results)"
   ]
  },
  {
   "cell_type": "markdown",
   "metadata": {
    "id": "0Ls7Mu6ZSfK5"
   },
   "source": [
    "This query retrieves information about the STE7 target family, including related targets, interactions, and ligands."
   ]
  },
  {
   "cell_type": "markdown",
   "metadata": {},
   "source": [
    "### Querying for a list of drug compounds"
   ]
  },
  {
   "cell_type": "code",
   "execution_count": null,
   "metadata": {},
   "outputs": [],
   "source": [
    "cypher_query = \"\"\"\n",
    "MATCH (l:Resource)\n",
    "WHERE l.ligandName IN ['RGFP966', 'belinostat', 'ricolinostat', 'nexturastat A', 'pyroxamide', 'entinostat', 'resminostat', 'panobinostat', 'R306465', 'M 344', 'AR-42']\n",
    "MATCH path = (l)-[:hasLigand]-(i)-[:hasTarget]-(t)-[:hasTargetFamily]-(tf)\n",
    "    OPTIONAL MATCH (i)-[:hasAction]-(a)\n",
    "    OPTIONAL MATCH (i)-[:hasAffinity]-(af)\n",
    "    OPTIONAL MATCH (i)-[:hasReference]-(r)\n",
    "    OPTIONAL MATCH (l)-[:xref]-(xr)\n",
    "RETURN path, a, af, r\n",
    "\"\"\""
   ]
  },
  {
   "cell_type": "code",
   "execution_count": null,
   "metadata": {},
   "outputs": [],
   "source": [
    "# Execute the query and display the results\n",
    "results = run_cypher_query(cypher_query)"
   ]
  },
  {
   "cell_type": "code",
   "execution_count": null,
   "metadata": {},
   "outputs": [],
   "source": [
    "from pprint import pprint\n",
    "\n",
    "pprint(results)"
   ]
  },
  {
   "cell_type": "code",
   "execution_count": null,
   "metadata": {},
   "outputs": [],
   "source": [
    "cypher_query_hdac = \"\"\"\n",
    "// HDAC Inhibitors\n",
    "MATCH (l:Resource)\n",
    "WHERE l.ligandName IN ['RGFP966', 'belinostat', 'ricolinostat', 'nexturastat A', 'pyroxamide', '5-nitroso-8-quinolinol', 'entinostat', 'resminostat', 'panobinostat', 'R306465', 'M 344', 'AR-42']\n",
    "MATCH path = (l)-[:hasLigand]-(i)-[:hasTarget]-(t)-[:hasTargetFamily]-(tf)\n",
    "    OPTIONAL MATCH (i)-[:hasAction]-(a)\n",
    "    OPTIONAL MATCH (i)-[:hasAffinity]-(af)\n",
    "    OPTIONAL MATCH (i)-[:hasReference]-(r)\n",
    "    OPTIONAL MATCH (l)-[:xref]-(xr)\n",
    "    OPTIONAL MATCH (af)-[:hasUnits]-(afu)\n",
    "RETURN \n",
    "    l.label as Compound,\n",
    "    l.approved as FDA_Approved,\n",
    "    t.label as Target,\n",
    "    tf.label as Target_Family,\n",
    "    a.uri as Action,\n",
    "    af.hasMedianValue as Affinity_Median,\n",
    "    af.hasLowValue as Affinity_Low,\n",
    "    af.hasHighValue as Affinity_High,\n",
    "    afu.uri as Affinity_Units,\n",
    "    r.uri as Reference,\n",
    "    l.comment as Description,\n",
    "    l.inChIKey as InChIKey,\n",
    "    l.canonicalSMILES as SMILES,\n",
    "    xr.uri as CHEMBL\n",
    "ORDER BY l.ligandName, t.nomenclature\n",
    "\"\"\"\n",
    "\n",
    "cypher_query_cdk = \"\"\"\n",
    "// CDK Inhibitors\n",
    "MATCH (l:Resource)\n",
    "WHERE l.ligandName IN ['indisulam', 'dinaciclib', 'flavopiridol', 'Bms-265246', 'AT7519', 'PHA-793887', 'riviciclib', 'R-547', '7-hydroxystaurosporine', 'SB1317/TG02', 'Sns-032', 'AZD5438']\n",
    "MATCH path = (l)-[:hasLigand]-(i)-[:hasTarget]-(t)-[:hasTargetFamily]-(tf)\n",
    "    OPTIONAL MATCH (i)-[:hasAction]-(a)\n",
    "    OPTIONAL MATCH (i)-[:hasAffinity]-(af)\n",
    "    OPTIONAL MATCH (i)-[:hasReference]-(r)\n",
    "    OPTIONAL MATCH (l)-[:xref]-(xr)\n",
    "    OPTIONAL MATCH (af)-[:hasUnits]-(afu)\n",
    "RETURN \n",
    "    l.label as Compound,\n",
    "    l.approved as FDA_Approved,\n",
    "    t.label as Target,\n",
    "    tf.label as Target_Family,\n",
    "    a.uri as Action,\n",
    "    af.hasMedianValue as Affinity_Median,\n",
    "    af.hasLowValue as Affinity_Low,\n",
    "    af.hasHighValue as Affinity_High,\n",
    "    afu.uri as Affinity_Units,\n",
    "    r.uri as Reference,\n",
    "    l.comment as Description,\n",
    "    l.inChIKey as InChIKey,\n",
    "    l.canonicalSMILES as SMILES,\n",
    "    xr.uri as CHEMBL\n",
    "ORDER BY l.ligandName, t.nomenclature\n",
    "\"\"\"\n",
    "\n",
    "cypher_query_aurk = \"\"\"\n",
    "// AURK Inhibitors\n",
    "MATCH (l:Resource)\n",
    "WHERE l.ligandName IN ['AZD1152-HQPA', 'tozasertib', 'SNS-314 mesylate', 'AMG 900', 'ZM-447439', 'ENMD-2076', 'CYC116', 'alisertib', 'PF-03814735', 'CCT129202', 'CCT137690']\n",
    "MATCH path = (l)-[:hasLigand]-(i)-[:hasTarget]-(t)-[:hasTargetFamily]-(tf)\n",
    "    OPTIONAL MATCH (i)-[:hasAction]-(a)\n",
    "    OPTIONAL MATCH (i)-[:hasAffinity]-(af)\n",
    "    OPTIONAL MATCH (i)-[:hasReference]-(r)\n",
    "    OPTIONAL MATCH (l)-[:xref]-(xr)\n",
    "    OPTIONAL MATCH (af)-[:hasUnits]-(afu)\n",
    "RETURN \n",
    "    l.label as Compound,\n",
    "    l.approved as FDA_Approved,\n",
    "    t.label as Target,\n",
    "    tf.label as Target_Family,\n",
    "    a.uri as Action,\n",
    "    af.hasMedianValue as Affinity_Median,\n",
    "    af.hasLowValue as Affinity_Low,\n",
    "    af.hasHighValue as Affinity_High,\n",
    "    afu.uri as Affinity_Units,\n",
    "    r.uri as Reference,\n",
    "    l.comment as Description,\n",
    "    l.inChIKey as InChIKey,\n",
    "    l.canonicalSMILES as SMILES,\n",
    "    xr.uri as CHEMBL\n",
    "ORDER BY l.ligandName, t.nomenclature\n",
    "\"\"\""
   ]
  },
  {
   "cell_type": "code",
   "execution_count": null,
   "metadata": {},
   "outputs": [],
   "source": [
    "import pandas as pd\n",
    "\n",
    "# Execute the query and display the results\n",
    "results_hdac = run_cypher_query(cypher_query_hdac)\n",
    "results_cdk = run_cypher_query(cypher_query_cdk)\n",
    "results_aurk = run_cypher_query(cypher_query_aurk)\n",
    "\n",
    "df_hdac = pd.DataFrame(results_hdac)\n",
    "df_cdk = pd.DataFrame(results_cdk)\n",
    "df_aurk = pd.DataFrame(results_aurk)"
   ]
  },
  {
   "cell_type": "code",
   "execution_count": null,
   "metadata": {},
   "outputs": [],
   "source": [
    "df_hdac"
   ]
  },
  {
   "cell_type": "code",
   "execution_count": null,
   "metadata": {},
   "outputs": [],
   "source": [
    "df_cdk"
   ]
  },
  {
   "cell_type": "code",
   "execution_count": null,
   "metadata": {},
   "outputs": [],
   "source": [
    "df_cdk"
   ]
  },
  {
   "cell_type": "code",
   "execution_count": null,
   "metadata": {},
   "outputs": [],
   "source": [
    "# export each DataFrame to a xlsx file\n",
    "df_hdac.to_excel('hdac_inhibitors_data.xlsx', index=False)\n",
    "df_cdk.to_excel('cdk_inhibitors_data.xlsx', index=False)\n",
    "df_aurk.to_excel('aurk_inhibitors_data.xlsx', index=False)"
   ]
  },
  {
   "cell_type": "code",
   "execution_count": null,
   "metadata": {},
   "outputs": [],
   "source": [
    "driver.close()"
   ]
  },
  {
   "cell_type": "markdown",
   "metadata": {},
   "source": [
    "### NOTES:  additional tools"
   ]
  },
  {
   "cell_type": "markdown",
   "metadata": {},
   "source": [
    "#### Nulling out a Neo4j database"
   ]
  },
  {
   "cell_type": "code",
   "execution_count": null,
   "metadata": {},
   "outputs": [],
   "source": [
    "# uncomment and use only when required - a quick way to clear the database\n",
    "\n",
    "# cypher_query = \"\"\"\n",
    "# MATCH (n) DETACH DELETE n\n",
    "# \"\"\"\n",
    "\n",
    "# results = run_cypher_query(cypher_query)\n",
    "# driver.close()\n"
   ]
  },
  {
   "cell_type": "markdown",
   "metadata": {
    "id": "YRjw24yMavka"
   },
   "source": [
    "## Citation\n",
    "\n",
    "**BibTeX:**\n",
    "\n",
    "```\n",
    "@article{10.1093/nar/gkad944,\n",
    "    author = {Harding, Simon D and Armstrong, Jane F and Faccenda, Elena and Southan, Christopher and Alexander, Stephen P H and Davenport, Anthony P and Spedding, Michael and Davies, Jamie A},\n",
    "    title = \"{The IUPHAR/BPS Guide to PHARMACOLOGY in 2024}\",\n",
    "    journal = {Nucleic Acids Research},\n",
    "    volume = {52},\n",
    "    number = {D1},\n",
    "    pages = {D1438-D1449},\n",
    "    year = {2023},\n",
    "    month = {10},\n",
    "    abstract = \"{The IUPHAR/BPS Guide to PHARMACOLOGY (GtoPdb; https://www.guidetopharmacology.org) is an open-access, expert-curated, online database that provides succinct overviews and key references for pharmacological targets and their recommended experimental ligands. It includes over 3039 protein targets and 12 163 ligand molecules, including approved drugs, small molecules, peptides and antibodies. Here, we report recent developments to the resource and describe expansion in content over the six database releases made during the last two years. The database update section of this paper focuses on two areas relating to important global health challenges. The first, SARS-CoV-2 COVID-19, remains a major concern and we describe our efforts to expand the database to include a new family of coronavirus proteins. The second area is antimicrobial resistance, for which we have extended our coverage of antibacterials in partnership with AntibioticDB, a collaboration that has continued through support from GARDP. We discuss other areas of curation and also focus on our external links to resources such as PubChem that bring important synergies to the resources.}\",\n",
    "    issn = {0305-1048},\n",
    "    doi = {10.1093/nar/gkad944},\n",
    "    url = {https://doi.org/10.1093/nar/gkad944},\n",
    "    eprint = {https://academic.oup.com/nar/article-pdf/52/D1/D1438/55039511/gkad944.pdf},\n",
    "}\n",
    "```"
   ]
  },
  {
   "cell_type": "code",
   "execution_count": null,
   "metadata": {
    "id": "kRtn41uiaxuE"
   },
   "outputs": [],
   "source": []
  }
 ],
 "metadata": {
  "colab": {
   "name": "gtpd_init.ipynb",
   "provenance": []
  },
  "kernelspec": {
   "display_name": ".venv",
   "language": "python",
   "name": "python3"
  },
  "language_info": {
   "codemirror_mode": {
    "name": "ipython",
    "version": 3
   },
   "file_extension": ".py",
   "mimetype": "text/x-python",
   "name": "python",
   "nbconvert_exporter": "python",
   "pygments_lexer": "ipython3",
   "version": "3.11.8"
  }
 },
 "nbformat": 4,
 "nbformat_minor": 0
}
